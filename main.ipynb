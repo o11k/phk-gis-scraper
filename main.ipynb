{
 "cells": [
  {
   "cell_type": "markdown",
   "metadata": {},
   "source": [
    "## Offline Setup"
   ]
  },
  {
   "cell_type": "code",
   "execution_count": 15,
   "metadata": {},
   "outputs": [],
   "source": [
    "import requests\n",
    "\n",
    "class BearerAuth(requests.auth.AuthBase):\n",
    "    def __init__(self, token):\n",
    "        self.token = token\n",
    "    def __call__(self, r):\n",
    "        r.headers[\"authorization\"] = \"Bearer \" + self.token\n",
    "        return r\n",
    "\n",
    "PROJECT_ID = 550\n",
    "USERNAME = \"Anonymous\"\n",
    "session = requests.session()"
   ]
  },
  {
   "cell_type": "markdown",
   "metadata": {},
   "source": [
    "## Online Setup"
   ]
  },
  {
   "cell_type": "code",
   "execution_count": 16,
   "metadata": {},
   "outputs": [],
   "source": [
    "main_response = session.get(\"https://mg1.gis-net.co.il/PardesHanaKarkurGis/\")\n",
    "assert main_response.ok\n",
    "\n",
    "login_response = session.post(\"https://mg1.gis-net.co.il/PardesHanaKarkurApi/api/auth/UserLogin\", json={\n",
    "    \"userName\": USERNAME,\n",
    "    \"userPassword\": \"\",\n",
    "    \"projId\": PROJECT_ID,\n",
    "})\n",
    "assert login_response.ok\n",
    "\n",
    "token = login_response.json()\n",
    "assert isinstance(token, str)\n",
    "auth = BearerAuth(token)\n",
    "\n",
    "lut_response = session.get(f\"https://mg1.gis-net.co.il/PardesHanaKarkurApi/api/app/GetLutValues?projId={PROJECT_ID}\", auth=auth)\n",
    "assert lut_response.ok\n",
    "lookup_table = lut_response.json()\n",
    "\n",
    "first_toc_response = session.post(\"https://mg1.gis-net.co.il/PardesHanaKarkurApi/api/map/FirstLoadingMap\", auth=auth, json={\n",
    "    \"mapSession\": \"\",\n",
    "    \"mapName\": \"\",\n",
    "    \"projId\": PROJECT_ID,\n",
    "})\n",
    "assert first_toc_response.ok\n",
    "first_toc = first_toc_response.json()\n",
    "\n",
    "toc_response = session.post(\"https://mg1.gis-net.co.il/PardesHanaKarkurApi/api/map/getMapToc\", auth=auth, json={\n",
    "    \"mapSession\": first_toc[\"sessionId\"],\n",
    "    \"mapName\": first_toc[\"mapName\"],\n",
    "    \"projId\": PROJECT_ID,\n",
    "})\n",
    "assert toc_response.ok\n",
    "toc = toc_response.json()\n",
    "\n",
    "assert first_toc == toc"
   ]
  },
  {
   "cell_type": "markdown",
   "metadata": {},
   "source": [
    "## Download"
   ]
  },
  {
   "cell_type": "code",
   "execution_count": null,
   "metadata": {},
   "outputs": [],
   "source": [
    "import random\n",
    "from PIL import Image\n",
    "from io import BytesIO\n",
    "\n",
    "img_response = session.get(f\"https://mg1.gis-net.co.il/mapguide{PROJECT_ID}/mapagent/mapagent.fcgi\", params={\n",
    "    \"USERNAME\": USERNAME,\n",
    "    \"SEQ\": 0.9600439442289928,  # Change?\n",
    "    \"OPERATION\": \"GETDYNAMICMAPOVERLAYIMAGE\",\n",
    "    \"VERSION\": \"2.0.0\",\n",
    "    \"LOCALE\": \"en\",\n",
    "    \"CLIENTAGENT\": \"ol.source.ImageMapGuide source\",\n",
    "    \"CLIP\": 1,\n",
    "    \"SETDISPLAYDPI\": 96,\n",
    "    \"SETDISPLAYWIDTH\": 1920,\n",
    "    \"SETDISPLAYHEIGHT\": 1080,\n",
    "    \"SETVIEWSCALE\": 50000.1000002,\n",
    "    \"SETVIEWCENTERX\": 198199.77139954278,\n",
    "    \"SETVIEWCENTERY\": 709005.376344086,\n",
    "    \"MAPNAME\": \"PardesHanaKarkurGIS\",\n",
    "    \"FORMAT\": \"PNG\",\n",
    "    \"SESSION\": toc[\"sessionId\"],\n",
    "    \"BEHAVIOR\": 2,\n",
    "    \"unique\": random.randint(100, 999),\n",
    "    #hideLayers:,\n",
    "    #showLayers:,\n",
    "})\n",
    "assert img_response.ok\n",
    "\n",
    "image = Image.open(BytesIO(img_response.content))\n",
    "display(image)\n"
   ]
  }
 ],
 "metadata": {
  "kernelspec": {
   "display_name": "Python 3",
   "language": "python",
   "name": "python3"
  },
  "language_info": {
   "codemirror_mode": {
    "name": "ipython",
    "version": 3
   },
   "file_extension": ".py",
   "mimetype": "text/x-python",
   "name": "python",
   "nbconvert_exporter": "python",
   "pygments_lexer": "ipython3",
   "version": "3.12.3"
  }
 },
 "nbformat": 4,
 "nbformat_minor": 2
}
